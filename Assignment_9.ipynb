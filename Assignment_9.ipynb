{
 "cells": [
  {
   "cell_type": "markdown",
   "metadata": {},
   "source": [
    "#### Q1.Write a Python Program to check if the given number is a Disarium Number ?"
   ]
  },
  {
   "cell_type": "code",
   "execution_count": 6,
   "metadata": {},
   "outputs": [
    {
     "name": "stdout",
     "output_type": "stream",
     "text": [
      "Enter a Number: 5\n",
      "5 is a Disarium Number\n",
      "Enter a Number: 12\n",
      "12 is a Not Disarium Number\n"
     ]
    }
   ],
   "source": [
    "def checkDisariumNumber():\n",
    "    in_num = input('Enter a Number: ')\n",
    "    sum = 0\n",
    "    for item in range(len(in_num)):\n",
    "        sum = sum + int(in_num[item])**(item+1)\n",
    "    if sum == int(in_num):\n",
    "        print(f'{in_num} is a Disarium Number')\n",
    "    else:\n",
    "        print(f'{in_num} is a Not Disarium Number') \n",
    "\n",
    "checkDisariumNumber()\n",
    "checkDisariumNumber()"
   ]
  },
  {
   "cell_type": "markdown",
   "metadata": {},
   "source": [
    "#### Q2.Write a Python Program to print all Disarium numbers between 1 to 100 ?"
   ]
  },
  {
   "cell_type": "code",
   "execution_count": 22,
   "metadata": {},
   "outputs": [
    {
     "data": {
      "text/plain": [
       "[1, 2, 3, 4, 5, 6, 7, 8, 9, 89]"
      ]
     },
     "execution_count": 22,
     "metadata": {},
     "output_type": "execute_result"
    }
   ],
   "source": [
    "def printDisariumNumbers(start=0,end=100):\n",
    "    output_num = []\n",
    "    for number in range(start,end+1):\n",
    "        sum = 0\n",
    "        for i in range(len(str(number))):\n",
    "            sum = sum + int(str(number)[i])**(i+1)\n",
    "        if sum == number:\n",
    "            output_num.append(number)\n",
    "    return output_num\n",
    "            \n",
    "        \n",
    "printDisariumNumbers(1,100)"
   ]
  },
  {
   "cell_type": "markdown",
   "metadata": {},
   "source": [
    "#### Q3.Write a Python Program to check if the given number is Happy Number ?"
   ]
  },
  {
   "cell_type": "code",
   "execution_count": 25,
   "metadata": {},
   "outputs": [
    {
     "name": "stdout",
     "output_type": "stream",
     "text": [
      "Enter a Number: 7\n",
      "7 is a Happy Number\n",
      "Enter a Number: 15\n",
      "15 is not a Happy Number\n"
     ]
    }
   ],
   "source": [
    "def checkHappyNumber():\n",
    "    in_num = input('Enter a Number: ')\n",
    "    in_num_duplicate = in_num\n",
    "    trackNumber = set()   \n",
    "    while True:\n",
    "        if in_num != '1' and str(in_num) not in trackNumber:\n",
    "            trackNumber.add(in_num)\n",
    "            sum = 0\n",
    "            for ele in range(len((in_num))):\n",
    "                sum = sum + int(in_num[ele])**2\n",
    "            in_num = str(sum)\n",
    "        elif str(in_num) in trackNumber:\n",
    "            print(f'{in_num_duplicate} is not a Happy Number')\n",
    "            break\n",
    "        else:\n",
    "            print(f'{in_num_duplicate} is a Happy Number')\n",
    "            break\n",
    "            \n",
    "checkHappyNumber()\n",
    "checkHappyNumber()            "
   ]
  },
  {
   "cell_type": "markdown",
   "metadata": {},
   "source": [
    "#### Q4.Write a Python Program to print all Happy numbers between 1 and 100 ?"
   ]
  },
  {
   "cell_type": "code",
   "execution_count": 26,
   "metadata": {},
   "outputs": [
    {
     "name": "stdout",
     "output_type": "stream",
     "text": [
      "The Happy Numbers between 0 and 100 are [1, 7, 10, 13, 19, 23, 28, 31, 32, 44, 49, 68, 70, 79, 82, 86, 91, 94, 97, 100]\n"
     ]
    }
   ],
   "source": [
    "def checkHappyNumber(start=0,end=100):\n",
    "    happyNumbersList = []\n",
    "    for in_num in range(start,end+1):\n",
    "        in_num = str(in_num)\n",
    "        inum_holder = in_num\n",
    "        trackNumber = set()   \n",
    "        while True:\n",
    "            if in_num != '1' and str(in_num) not in trackNumber:\n",
    "                trackNumber.add(in_num)\n",
    "                sum = 0\n",
    "                for ele in range(len((in_num))):\n",
    "                    sum = sum + int(in_num[ele])**2\n",
    "                in_num = str(sum)\n",
    "            elif str(in_num) in trackNumber:\n",
    "                break\n",
    "            else:\n",
    "                happyNumbersList.append(int(inum_holder))\n",
    "                break\n",
    "    print(f'The Happy Numbers between {start} and {end} are {happyNumbersList}')\n",
    "    \n",
    "checkHappyNumber(0,100)"
   ]
  },
  {
   "cell_type": "markdown",
   "metadata": {},
   "source": [
    "#### Q5.Write a Python Program to determine whether the given number is a Harshad Number ?"
   ]
  },
  {
   "cell_type": "code",
   "execution_count": 27,
   "metadata": {},
   "outputs": [
    {
     "name": "stdout",
     "output_type": "stream",
     "text": [
      "Enter a Number: 6804\n",
      "6804 is a Harshad Number\n",
      "Enter a Number: 458\n",
      "458 is a Not Harshad Number\n"
     ]
    }
   ],
   "source": [
    "def checkHarshadNumber():\n",
    "    in_num = input('Enter a Number: ')\n",
    "    sum = 0\n",
    "    for item in range(len(in_num)):\n",
    "        sum = sum + int(in_num[item])\n",
    "    if int(in_num)%sum == 0:\n",
    "        print(f'{in_num} is a Harshad Number')\n",
    "    else:\n",
    "        print(f'{in_num} is a Not Harshad Number')\n",
    "        \n",
    "checkHarshadNumber()\n",
    "checkHarshadNumber()"
   ]
  },
  {
   "cell_type": "markdown",
   "metadata": {},
   "source": [
    "#### Q6.Write a Python Program to print all pronic numbers between 1 and 100 ?"
   ]
  },
  {
   "cell_type": "code",
   "execution_count": 41,
   "metadata": {},
   "outputs": [
    {
     "name": "stdout",
     "output_type": "stream",
     "text": [
      "[0, 2, 6, 12, 20, 30, 42, 56, 72, 90]\n"
     ]
    }
   ],
   "source": [
    "output=[]\n",
    "for i in range(0,100):\n",
    "    pronic=i*(i+1)\n",
    "    if pronic<100:\n",
    "        output.append(pronic)\n",
    "print(output)"
   ]
  }
 ],
 "metadata": {
  "kernelspec": {
   "display_name": "Python 3",
   "language": "python",
   "name": "python3"
  },
  "language_info": {
   "codemirror_mode": {
    "name": "ipython",
    "version": 3
   },
   "file_extension": ".py",
   "mimetype": "text/x-python",
   "name": "python",
   "nbconvert_exporter": "python",
   "pygments_lexer": "ipython3",
   "version": "3.8.5"
  }
 },
 "nbformat": 4,
 "nbformat_minor": 4
}
